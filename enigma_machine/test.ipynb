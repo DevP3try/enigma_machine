{
 "cells": [
  {
   "cell_type": "code",
   "execution_count": 1,
   "id": "18f32da2",
   "metadata": {},
   "outputs": [
    {
     "name": "stdout",
     "output_type": "stream",
     "text": [
      "rotor 1 {'A': 'J', 'B': 'G', 'C': 'D', 'D': 'Q', 'E': 'O', 'F': 'X', 'G': 'U', 'H': 'S', 'I': 'C', 'J': 'A', 'K': 'M', 'L': 'I', 'M': 'F', 'N': 'R', 'O': 'V', 'P': 'T', 'Q': 'P', 'R': 'N', 'S': 'E', 'T': 'W', 'U': 'K', 'V': 'B', 'W': 'L', 'X': 'Z', 'Y': 'Y', 'Z': 'H'}\n",
      "rotor 2 {'A': 'N', 'B': 'T', 'C': 'Z', 'D': 'P', 'E': 'S', 'F': 'F', 'G': 'B', 'H': 'O', 'I': 'K', 'J': 'M', 'K': 'W', 'L': 'R', 'M': 'C', 'N': 'J', 'O': 'D', 'P': 'I', 'Q': 'V', 'R': 'L', 'S': 'A', 'T': 'E', 'U': 'Y', 'V': 'U', 'W': 'X', 'X': 'H', 'Y': 'G', 'Z': 'Q'}\n",
      "rotor 3 {'A': 'J', 'B': 'V', 'C': 'I', 'D': 'U', 'E': 'B', 'F': 'H', 'G': 'T', 'H': 'C', 'I': 'D', 'J': 'Y', 'K': 'A', 'L': 'K', 'M': 'E', 'N': 'Q', 'O': 'Z', 'P': 'P', 'Q': 'O', 'R': 'S', 'S': 'G', 'T': 'X', 'U': 'N', 'V': 'R', 'W': 'M', 'X': 'W', 'Y': 'F', 'Z': 'L'}\n"
     ]
    }
   ],
   "source": [
    "rotor_1 = \"JGDQOXUSCAMIFRVTPNEWKBLZYH\"\n",
    "rotor_2 = \"NTZPSFBOKMWRCJDIVLAEYUXHGQ\"\n",
    "rotor_3 = \"JVIUBHTCDYAKEQZPOSGXNRMWFL\"\n",
    "refletor = \"ABCDEFGHIJKLMNOPQRSTUVWXYZ\"\n",
    "\n",
    "dRotor_1 = {}\n",
    "dRotor_2 = {}\n",
    "dRotor_3 = {}\n",
    "\n",
    "#refletor = {\"A\": \"\",\"B\": \"\",\"C\": \"\",\"D\": \"\",\"E\": \"\",\"F\": \"\",\"G\": \"\",\"H\": \"\",\"I\": \"\",\"J\": \"\",\"K\": \"\",\"L\": \"\",\"M\": \"\",\"N\": \"\",\"O\": \"\",\"P\": \"\",\"Q\": \"\",\"R\": \"\",\"S\": \"\",\"T\": \"\",\"U\": \"\",\"V\": \"\",\"W\": \"\",\"X\": \"\",\"Z\":\"\"}\n",
    "crypted_txt = \"OPZMUNDO\"\n",
    "\n",
    "for i in range(len(rotor_1)):\n",
    "    dRotor_1.update({refletor[i]: rotor_1[i]})\n",
    "    dRotor_2.update({refletor[i]: rotor_2[i]})\n",
    "    dRotor_3.update({refletor[i]: rotor_3[i]})\n",
    "    \n",
    "print(f\"rotor 1 {dRotor_1}\")\n",
    "print(f\"rotor 2 {dRotor_2}\")\n",
    "print(f\"rotor 3 {dRotor_3}\")"
   ]
  },
  {
   "cell_type": "code",
   "execution_count": null,
   "id": "c5f4d12e",
   "metadata": {},
   "outputs": [],
   "source": []
  }
 ],
 "metadata": {
  "kernelspec": {
   "display_name": "Python 3",
   "language": "python",
   "name": "python3"
  },
  "language_info": {
   "codemirror_mode": {
    "name": "ipython",
    "version": 3
   },
   "file_extension": ".py",
   "mimetype": "text/x-python",
   "name": "python",
   "nbconvert_exporter": "python",
   "pygments_lexer": "ipython3",
   "version": "3.11.9"
  }
 },
 "nbformat": 4,
 "nbformat_minor": 5
}
