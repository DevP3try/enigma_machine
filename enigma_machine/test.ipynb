{
 "cells": [
  {
   "cell_type": "code",
   "execution_count": null,
   "id": "18f32da2",
   "metadata": {},
   "outputs": [
    {
     "ename": "",
     "evalue": "",
     "output_type": "error",
     "traceback": [
      "\u001b[1;31mRunning cells with 'Python 3.13.7' requires the ipykernel package.\n",
      "\u001b[1;31m<a href='command:jupyter.createPythonEnvAndSelectController'>Create a Python Environment</a> with the required packages."
     ]
    }
   ],
   "source": [
    "rotor_1 = \"JGDQOXUSCAMIFRVTPNEWKBLZYH\"\n",
    "rotor_2 = \"NTZPSFBOKMWRCJDIVLAEYUXHGQ\"\n",
    "rotor_3 = \"JVIUBHTCDYAKEQZPOSGXNRMWFL\"\n",
    "refletor = \"ABCDEFGHIJKLMNOPQRSTUVWXYZ\"\n",
    "\n",
    "dRotor_1 = {}\n",
    "dRotor_2 = {}\n",
    "dRotor_3 = {}\n",
    "\n",
    "#refletor = {\"A\": \"\",\"B\": \"\",\"C\": \"\",\"D\": \"\",\"E\": \"\",\"F\": \"\",\"G\": \"\",\"H\": \"\",\"I\": \"\",\"J\": \"\",\"K\": \"\",\"L\": \"\",\"M\": \"\",\"N\": \"\",\"O\": \"\",\"P\": \"\",\"Q\": \"\",\"R\": \"\",\"S\": \"\",\"T\": \"\",\"U\": \"\",\"V\": \"\",\"W\": \"\",\"X\": \"\",\"Z\":\"\"}\n",
    "crypted_txt = \"OPZMUNDO\"\n",
    "\n",
    "for i in range(len(rotor_1)):\n",
    "    dRotor_1.update({refletor[i]: rotor_1[i]})\n",
    "    dRotor_2.update({refletor[i]: rotor_2[i]})\n",
    "    dRotor_3.update({refletor[i]: rotor_3[i]})\n",
    "    \n",
    "print(f\"rotor 1 {dRotor_1}\")\n",
    "print(f\"rotor 2 {dRotor_2}\")\n",
    "print(f\"rotor 3 {dRotor_3}\")"
   ]
  },
  {
   "cell_type": "code",
   "execution_count": null,
   "id": "c5f4d12e",
   "metadata": {},
   "outputs": [],
   "source": []
  }
 ],
 "metadata": {
  "kernelspec": {
   "display_name": "Python 3",
   "language": "python",
   "name": "python3"
  },
  "language_info": {
   "name": "python",
   "version": "3.13.7"
  }
 },
 "nbformat": 4,
 "nbformat_minor": 5
}
